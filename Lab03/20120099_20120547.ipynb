{
 "cells": [
  {
   "cell_type": "markdown",
   "metadata": {
    "id": "xIL0jeM78tKu"
   },
   "source": [
    "## Student Info\n",
    "\n",
    "* Student name 1: Trần Huỳnh Hương\n",
    "* Student ID 1: 20120099\n",
    "\n",
    "* Student name 2: Võ Thành Phong\n",
    "* Student ID 2: 20120547"
   ]
  },
  {
   "cell_type": "markdown",
   "metadata": {
    "id": "PPGr3YiG80kb"
   },
   "source": [
    "## Project Info\n",
    "\n",
    "This project aims to get hands-on experience in implementing some Classification and clustering algorithms taught in Data Mining and Applications course.\n",
    "\n",
    "There are 2 exercises in this project:\n",
    "* Binary classification using Decision Tree (ID3 algorithm)\n",
    "* Data clustering with K-means clustering"
   ]
  },
  {
   "cell_type": "markdown",
   "metadata": {
    "id": "1jeSVc1g-xx0"
   },
   "source": [
    "## Instructions\n",
    "\n",
    "### How to finish\n",
    "\n",
    "To finish the project, fill in:\n",
    "- ```YOUR CODE HERE``` in code cells\n",
    "\n",
    "- ```Your answer here``` in text cells.\n",
    "\n",
    "\n",
    "<font color='red'>**NOTE:**</font>\n",
    "\n",
    "- Your project must be finished by your own self. You may discuss with the others, but must not copy (partially or entirely) their codes or solutions. You will receive a <font color='red'>0 point</font> for this project if you violate this plagiarism rule.\n",
    "\n",
    "- You can create new cells to clarify your code / answer, however, please <font color='red'>do not delete any pre-defined code cells or test case cells</font> as it may affect the grading results.\n",
    "\n",
    "- The given test cases (if any) are used to only assist your code debugging / unit testing. Passing these test cases does not necessarily mean you will get the maximum point for the exercise."
   ]
  },
  {
   "cell_type": "markdown",
   "metadata": {
    "id": "SSmFr8aou0R1"
   },
   "source": [
    "### How to submit\n",
    "\n",
    "In the grading stage, I will first select `Kernel` - `Restart Kernel & Run All Cells` to restart and run all cells in your notebook. As a result, before submitting your project, you should run `Kernel` - `Restart Kernel & Run All Cells` to ensure your code will run as you expect.\n",
    "\n",
    "After that, rename your notebook as `ID1_ID2.ipynb` (e.g. `19123_19456.ipynb`) and submit on Moodle.\n",
    "\n",
    "<font color=red>Please follow the above submission guidelines. Any violation of these instructions may cost you some penalty points!!!</font>\n"
   ]
  },
  {
   "cell_type": "markdown",
   "metadata": {
    "id": "3BOp6rdqg5SL"
   },
   "source": [
    "## Exercise 1: Classification (6 points)\n",
    "\n",
    "### Requirements\n",
    "\n",
    "You will need to implement Decision Tree algorithm (ID3) in Python language.\n",
    "\n",
    "**Description**:\n",
    "\n",
    "- In this exercise, you only need to build a decision tree model using categorical attributes (no need to handle numerical attributes). You may transform numerical attributes into categorical before feeding into classification model.\n",
    "\n",
    "- A sample belongs to either one of the given labels (binary classification).\n",
    "\n",
    "- Dataset: [tennis.txt](https://drive.google.com/file/d/1jv67IlMIxGxwGGaP47AZ_1t3mxIn82Y7/view?usp=sharing) and [titanic2.txt](https://drive.google.com/file/d/1IwOxcPz-Hq1_JOOfGylJxy1TYhDvfEsg/view?usp=sharing)\n",
    "\n",
    "\n",
    "You will need to implement `load_data` function and DecisionTree class with the following methods:\n",
    "\n",
    "- ```fit```: build tree from given dataset, using ID3 algorithm\n",
    "\n",
    "- ```predict```: make predictions on new data points using the trained decision tree\n",
    "\n",
    "- ```visualize```: plot trained decision tree from training dataset. You may choose how to visualize the trained model, as long as the tree structure of the model is clarified (you may use available visualization packages such as ```tree``` or ```graphviz```, or implement the visualization code yourself). For example, a simple representation of a decision tree built from [tennis.txt](https://drive.google.com/file/d/1jv67IlMIxGxwGGaP47AZ_1t3mxIn82Y7/view?usp=sharing) dataset may look like:\n",
    "\n",
    "\n",
    "```\n",
    "outlook = sunny\n",
    "|  humidity = high: no\n",
    "|  humidity = normal: yes\n",
    "outlook = overcast: yes\n",
    "outlook = rainy\n",
    "|  windy = TRUE: no\n",
    "|  windy = FALSE: yes\n",
    "```\n",
    "\n",
    "**Note**:\n",
    "\n",
    "- For [tennis.txt](https://drive.google.com/file/d/1jv67IlMIxGxwGGaP47AZ_1t3mxIn82Y7/view?usp=sharing) dataset, you can use all samples for training without spliting into train and test set. For [titanic2.txt](https://drive.google.com/file/d/1IwOxcPz-Hq1_JOOfGylJxy1TYhDvfEsg/view?usp=sharing) dataset, you may need to split into train/test with the ratio of 80/20 (use ```sklearn.model_selection.train_test_split``` with ```random_state=520``` for reproducibility)\n",
    "\n",
    "- ```load_data``` function and ```DecisionTree``` class must be implemented once only and be usable for different datasets\n",
    "\n",
    "- For each dataset, you need to ```load_data``` from input files, ```fit``` train dataset into model, use the trained model to ```predict``` on ```X_train``` and ```X_test``` (if any), calculate accuracy (use ```sklearn.metrics.accuracy_score```), and eventually ```visualize``` trained model"
   ]
  },
  {
   "cell_type": "markdown",
   "metadata": {
    "id": "t8bxZvhd80Kt"
   },
   "source": [
    "### Implementation (6 points)"
   ]
  },
  {
   "cell_type": "code",
   "execution_count": 1,
   "metadata": {
    "id": "zp2i5B0R8m_T"
   },
   "outputs": [],
   "source": [
    "import pandas as pd\n",
    "import numpy as np\n",
    "import sklearn\n",
    "from sklearn.metrics import accuracy_score"
   ]
  },
  {
   "cell_type": "markdown",
   "metadata": {},
   "source": [
    "**Some important notes:**\n",
    "- My team has created some new cells and functions during the installation process to clarify the declarations and ensure clean source code.\n",
    "- **To avoid issues when the tree does not have any pure leaf nodes, determining the class of a sample will be based on the class with a higher number of instances in the leaf node (This method is called 'Majority voting').** (This is why the value of a leaf node is displayed in dictionary format when visualizing the tree.)\n",
    "- **If a sample in the test set has attributes that do not belong to any branch of the tree, then determining the class of that sample will be based on the node of the branch that has the most matching number of attributes with the sample.**\n",
    "- My team coincidentally discovered that if we split the original titanic2 dataset using train_test_split with random_state=520, then X_test[148] will be a sample that does not belong to any branch of the tree. Furthermore, this sample has a unique set of attribute values in the entire original dataset."
   ]
  },
  {
   "cell_type": "code",
   "execution_count": 2,
   "metadata": {},
   "outputs": [],
   "source": [
    "#NEW CELL TO IMPORT TRAIN_TEST_SPLIT\n",
    "from sklearn.model_selection import train_test_split"
   ]
  },
  {
   "cell_type": "code",
   "execution_count": 3,
   "metadata": {
    "id": "cttFBEpc9WUX"
   },
   "outputs": [],
   "source": [
    "# 1\n",
    "### Description: data loading and categorization (if any)\n",
    "\n",
    "def load_data(file_path: str, split: bool = True):\n",
    "    \"\"\"\n",
    "    Load data from file_path and return numpy data\n",
    "\n",
    "    Parameters\n",
    "    ----------\n",
    "    file_path : str\n",
    "        The path of input data file (tab separated).\n",
    "    split : bool\n",
    "        Whether or not to return test set.\n",
    "\n",
    "    Returns\n",
    "    ----------\n",
    "    (X_train, y_train)\n",
    "    \n",
    "    : training numpy array if split = False, else\n",
    "    (X_train, y_train), (X_test, y_test): training and testing numpy array if split = True\n",
    "    \"\"\"\n",
    "\n",
    "    # YOUR CODE HERE\n",
    "    columns_name=[]\n",
    "    data=[]\n",
    "    with open(file_path) as f:\n",
    "        columns_name=f.readline().split()\n",
    "        lines=f.readlines()\n",
    "        data=[[{columns_name[i]:l.split()[i]} for i in range(len(l.split()))] for l in lines]\n",
    "    n=np.array(data)\n",
    "    X=n[:,:-1]\n",
    "    y=n[:,-1]\n",
    "    y=np.array([list(i.values())[0] for i in y])\n",
    "    if split==False:\n",
    "        return X,y\n",
    "    else:\n",
    "        X_train, X_test, y_train, y_test = train_test_split(X, y, test_size=0.2, random_state=520)\n",
    "        return X_train, y_train, X_test, y_test\n",
    "    #raise NotImplementedError()"
   ]
  },
  {
   "cell_type": "code",
   "execution_count": 4,
   "metadata": {},
   "outputs": [],
   "source": [
    "#NEW CELL TO IMPLEMENT COMPUTING ENTROPY FUNCTIONS\n",
    "def entropy(n_samples_of_each_class, n_samples):\n",
    "    \"\"\"\n",
    "    Parameters:\n",
    "    -----------\n",
    "    n_samples_of_each_class: list number of samples in each class\n",
    "    n_samples: number of data samples\n",
    "    \n",
    "    -----------\n",
    "    return entropy \n",
    "    \"\"\"\n",
    "    temp=[-(i/n_samples)*np.log2(i/n_samples) for i in n_samples_of_each_class]\n",
    "    temp=np.array(temp)\n",
    "    return temp.sum()\n",
    "\n",
    "def entropy_of_one_division(division): \n",
    "    \"\"\"\n",
    "    Division: list labels of samples after splited by specified value of current attribute.\n",
    "    Returns\n",
    "    ----------\n",
    "    entropy of a group of samples after splited by specified value of current attribute.\n",
    "    n_samples:number of samples of a group of samples after splited by specified value of current attribute.\n",
    "    n_classes: classes that all samples in group is belonged to.\n",
    "    n_samples_each_class: number of samples in each classes.\n",
    "    \"\"\"\n",
    "    n_samples = len(division)\n",
    "    n_classes = set(division)\n",
    "    \n",
    "    n_samples_each_class=[]\n",
    "    #count samples in each class then store it to list n_samples_each_class\n",
    "    \n",
    "    for i in n_classes:\n",
    "        count=0\n",
    "        for j in division:\n",
    "            if i==j:\n",
    "                count+=1\n",
    "        n_samples_each_class.append(count)\n",
    "    \n",
    "    return entropy(n_samples_each_class,n_samples),n_samples, list(n_classes), n_samples_each_class"
   ]
  },
  {
   "cell_type": "code",
   "execution_count": 5,
   "metadata": {
    "id": "oZlGLcBn-wTM"
   },
   "outputs": [],
   "source": [
    "# 4\n",
    "\n",
    "# Decision Tree class\n",
    "# You should implement the ID3 algorithm here\n",
    "# You can add other utility methods to make your code easy to read :) \n",
    "\n",
    "class DecisionTree:\n",
    "    def __init__(self):\n",
    "        # YOUR CODE HERE\n",
    "        self.depth=0 #depth of completed decision tree.\n",
    "        self.tree=None #completed decision tree.\n",
    "        self.columns_name=None #stored names of all columns in the dataset.\n",
    "        #raise NotImplementedError()\n",
    "\n",
    "    def fit(self, X_train, y_train):\n",
    "        # 3\n",
    "        # YOUR CODE HERE\n",
    "        self.columns_name=[list(i.keys())[0] for i in X_train[0]]\n",
    "        self.build_tree(X_train, y_train)\n",
    "        #raise NotImplementedError()\n",
    "       \n",
    "    def build_tree(self,X_train, y_train, node={}, traced=[], depth=0):\n",
    "        '''Parameter:\n",
    "        -----------------\n",
    "        X_train: training data\n",
    "        y_train: label of training data\n",
    "        ------------------\n",
    "        return: node \n",
    "        \n",
    "        node: each node represented by att, purity, cutoff values, column index, it's value and it's children.\n",
    "         - att: name of splited attribute of node.\n",
    "         - purity: A list containing boolean variables for each value of the splited attribute to check\n",
    "                   if after splited by this value the subgroup is purity?\n",
    "         - isLeaf: A list containing boolean variables for each value of the splited attribute to check\n",
    "                   if a current node is a leaf node?\n",
    "         - cutoffs: values are values in the splited attributes.\n",
    "         - index_col: column index is the index of the splited attributes.\n",
    "         - val (value of node): A dict contains dictionaries that contain number of samples for each class\n",
    "                                after splited by each value in the splited attribute.\n",
    "        '''\n",
    "        \n",
    "        col_idx, cutoffs, entropy, labels, purity = self.find_best_split_of_all(X_train, y_train, traced) # find one split\n",
    "        if col_idx==-1:\n",
    "            return {'index_col':-1}\n",
    "        if entropy==0:\n",
    "            node = {'index_col':col_idx,\n",
    "                    'att':self.columns_name[col_idx],\n",
    "                    'cutoffs':cutoffs,\n",
    "                    'purity':purity,\n",
    "                    'isLeaf': [True for _ in range(len(cutoffs))],\n",
    "                    'val':labels}\n",
    "            return node\n",
    "\n",
    "        else:  \n",
    "            node = {'index_col':col_idx,\n",
    "                    'cutoffs':cutoffs,\n",
    "                    'att':self.columns_name[col_idx],\n",
    "                    'purity':purity,\n",
    "                    'isLeaf': [],\n",
    "                    'val':labels}\n",
    "            node['sub_tree']={}\n",
    "            for i in range(len(cutoffs)):\n",
    "                if node.get('purity')[i]==False:\n",
    "                    value=cutoffs[i]\n",
    "                    X_new=X_train[X_train[:, col_idx] == value]\n",
    "                    y_new=y_train[X_train[:, col_idx] == value]\n",
    "                    node['sub_tree'][tuple(value.items())] = self.build_tree(X_new, y_new, {}, traced+[col_idx], depth+1)\n",
    "                    if node['sub_tree'][tuple(value.items())]['index_col']==-1:\n",
    "                        node['isLeaf'].append(True)\n",
    "                    else:\n",
    "                        node['isLeaf'].append(False)    \n",
    "                else:\n",
    "                    node['isLeaf'].append(True)\n",
    "            self.depth += 1 \n",
    "            self.tree = node\n",
    "            return node\n",
    "        \n",
    "    def find_best_split_of_all(self, X, y, traced):\n",
    "        col_idx = -1\n",
    "        min_entropy = 82 #just a random number and it's my birthday ^_^\n",
    "        cutoffs = None\n",
    "        labels=None\n",
    "        purity=None\n",
    "        for i, col_data in enumerate(X.T):\n",
    "            if i in traced:\n",
    "                continue\n",
    "            entropy, cur_cutoffs, cur_labels, cur_purity = self.split(col_data, y)\n",
    "            if entropy == 0: #best entropy\n",
    "                return i, cur_cutoffs, entropy, cur_labels, cur_purity\n",
    "            elif entropy <= min_entropy:\n",
    "                min_entropy = entropy\n",
    "                col_idx = i\n",
    "                cutoffs = cur_cutoffs\n",
    "                labels=cur_labels\n",
    "                purity=cur_purity\n",
    "                \n",
    "        return col_idx, cutoffs, min_entropy, labels, purity\n",
    "    \n",
    "    def split(self, col_data, y):\n",
    "        ''' \n",
    "        Parameters:\n",
    "        -------------\n",
    "        col_data: data samples in column\n",
    "        \n",
    "        Returns:\n",
    "        -------------\n",
    "        entropy: entropy of a group of samples after splited by specified value of current attribute.\n",
    "        cutoffs: values in the splited attributes.\n",
    "        '''\n",
    "        \n",
    "        entropy = 0.0\n",
    "        cutoffs=set(frozenset(c.items()) for c in col_data)\n",
    "        cutoffs=[dict(c) for c in cutoffs]\n",
    "        labels=[]\n",
    "        purity=[]\n",
    "        \n",
    "        for value in cutoffs:\n",
    "            y_predict = col_data == value\n",
    "            component_entropy, n, n_classes, n_samples_each_class = entropy_of_one_division(y[y_predict])\n",
    "            entropy+=((n/len(y))*component_entropy)\n",
    "            if component_entropy==0.0:\n",
    "                purity.append(True)\n",
    "            else:\n",
    "                purity.append(False)\n",
    "            temp={}\n",
    "            for i in range(len(n_classes)):\n",
    "                temp[n_samples_each_class[i]]=n_classes[i]\n",
    "            labels.append(temp)\n",
    "        return entropy, cutoffs, labels, purity\n",
    "    \n",
    "    def predict(self, X_test):\n",
    "        # 0.5\n",
    "        # YOUR CODE HERE\n",
    "        tree = self.tree\n",
    "        pred = ['' for _ in range(len(X_test))]\n",
    "        for i, c in enumerate(X_test):\n",
    "            pred[i] = self._predict(c)\n",
    "        return np.array(pred)\n",
    "        #raise NotImplementedError()\n",
    "    \n",
    "    def _predict(self, row):\n",
    "        cur_layer = self.tree\n",
    "        return self.forward_prop(cur_layer, row) \n",
    "\n",
    "    def forward_prop(self,cur_layer, row, traced=[]):\n",
    "        label=None\n",
    "        index=-1\n",
    "        for i in range(len(cur_layer.get('cutoffs'))):\n",
    "            if row[cur_layer['index_col']] == list(cur_layer.get('cutoffs'))[i]:\n",
    "                index=i\n",
    "                max_count_class=max(k for k in list(cur_layer.get('val')[i].keys()))\n",
    "                label=cur_layer.get('val')[i][max_count_class]\n",
    "                if cur_layer.get('purity')[i]==True or cur_layer.get('isLeaf')[i]==True:\n",
    "                    return label\n",
    "                    \n",
    "        if len(traced)>=1:\n",
    "            return traced[-1]\n",
    "        return self.forward_prop(cur_layer.get('sub_tree')[tuple(list(cur_layer.get('cutoffs'))[index].items())],row,traced+[label])\n",
    "                    \n",
    "                \n",
    "    def visualize(self):\n",
    "        # 0.5\n",
    "        # YOUR CODE HERE\n",
    "        cur_layer = self.tree\n",
    "        self.forward_for_vs(cur_layer)\n",
    "        #raise NotImplementedError()\n",
    "    \n",
    "    def forward_for_vs(self,layer,space=''):\n",
    "        for i in range(len(layer.get('cutoffs'))):\n",
    "            value=list(list(layer.get('cutoffs'))[i].values())[0]\n",
    "            if layer.get('purity')[i]==True or layer.get('isLeaf')[i]==True:\n",
    "                label=': '+str(layer.get('val')[i])\n",
    "                print(space+layer.get('att')+' = '+value+label)\n",
    "            else:\n",
    "                print(space+layer.get('att')+' = '+value)\n",
    "                self.forward_for_vs(layer.get('sub_tree')[tuple(list(layer.get('cutoffs'))[i].items())],space+'|'+2*' ')"
   ]
  },
  {
   "cell_type": "code",
   "execution_count": 6,
   "metadata": {
    "id": "_GQ7FhTQ_zQZ"
   },
   "outputs": [
    {
     "name": "stdout",
     "output_type": "stream",
     "text": [
      "Accuracy on training set:  100.0 %\n",
      "Accuracy on test set:  33.33333333333333 %\n",
      "\n",
      "Visualization of trained tree:\n",
      "\n",
      "outlook = overcast: {3: 'yes'}\n",
      "outlook = rain\n",
      "|  wind = strong: {2: 'no'}\n",
      "|  wind = weak: {3: 'yes'}\n",
      "outlook = sunny: {3: 'no'}\n"
     ]
    }
   ],
   "source": [
    "# 0.5 = 0.25 (tennis dataset) + 0.25 (titanic2 dataset) \n",
    "\n",
    "### NOTE: Flow to run your code (do this for all your datasets)\n",
    "\n",
    "# dataset 1 (create one cell for each dataset with the following content)\n",
    "\n",
    "tree = DecisionTree()\n",
    "X_train, y_train, X_test, y_test = load_data(\"data/tennis.txt\")\n",
    "tree.fit(X_train, y_train)\n",
    "y_hat_train = tree.predict(X_train)\n",
    "acc_train = accuracy_score(y_train, y_hat_train)\n",
    "y_hat_test = tree.predict(X_test) \n",
    "acc_test = accuracy_score(y_test, y_hat_test)\n",
    "print('Accuracy on training set: ',acc_train*100,'%')\n",
    "print('Accuracy on test set: ',acc_test*100,'%')\n",
    "print('\\nVisualization of trained tree:\\n')\n",
    "tree.visualize()"
   ]
  },
  {
   "cell_type": "code",
   "execution_count": 7,
   "metadata": {},
   "outputs": [
    {
     "name": "stdout",
     "output_type": "stream",
     "text": [
      "Accuracy on training set:  77.8409090909091 %\n",
      "Accuracy on test set:  76.64399092970523 %\n",
      "\n",
      "Visualization of trained tree:\n",
      "\n",
      "sex = female\n",
      "|  pclass = 3rd\n",
      "|  |  age = child: {12: 'yes', 13: 'no'}\n",
      "|  |  age = adult: {60: 'yes', 68: 'no'}\n",
      "|  pclass = crew\n",
      "|  |  age = adult: {16: 'yes', 3: 'no'}\n",
      "|  pclass = 2nd\n",
      "|  |  age = child: {12: 'yes'}\n",
      "|  |  age = adult: {63: 'yes', 11: 'no'}\n",
      "|  pclass = 1st\n",
      "|  |  age = adult: {115: 'yes', 4: 'no'}\n",
      "sex = male\n",
      "|  pclass = 1st\n",
      "|  |  age = child: {5: 'yes'}\n",
      "|  |  age = adult: {46: 'yes', 89: 'no'}\n",
      "|  pclass = 2nd\n",
      "|  |  age = child: {9: 'yes'}\n",
      "|  |  age = adult: {9: 'yes', 126: 'no'}\n",
      "|  pclass = crew\n",
      "|  |  age = adult: {145: 'yes', 526: 'no'}\n",
      "|  pclass = 3rd\n",
      "|  |  age = child: {11: 'yes', 31: 'no'}\n",
      "|  |  age = adult: {66: 'yes', 320: 'no'}\n"
     ]
    }
   ],
   "source": [
    "tree = DecisionTree()\n",
    "X_train, y_train, X_test, y_test = load_data(\"data/titanic2.txt\")\n",
    "tree.fit(X_train, y_train)\n",
    "y_hat_train = tree.predict(X_train)\n",
    "acc_train = accuracy_score(y_train, y_hat_train)\n",
    "y_hat_test = tree.predict(X_test) \n",
    "acc_test = accuracy_score(y_test, y_hat_test)\n",
    "print('Accuracy on training set: ',acc_train*100,'%')\n",
    "print('Accuracy on test set: ',acc_test*100,'%')\n",
    "print('\\nVisualization of trained tree:\\n')\n",
    "tree.visualize()"
   ]
  },
  {
   "cell_type": "markdown",
   "metadata": {
    "id": "UkJf1OrO_ijl"
   },
   "source": [
    "### Answer the following question (0.5 points)\n",
    "\n",
    "**Question 1:** Your comments on the accuracy scores between train and test sets on ```titanic2``` dataset? Elaborate, explain and propose a solution\n",
    "\n",
    "---\n",
    "\n",
    "*Your answer here*\n",
    "- Accuracy on test set and train set are quite close and are at approximately 77%.\n",
    "- These accuracy scores are not low but not really good enough to trust the classification of this decision tree. So my team looked at other metrics as precision, recall.\n",
    "\n",
    "![image](https://res.cloudinary.com/vtphong/image/upload/v1682576241/data-mining/Screenshot_2023-04-27_131700.png)\n",
    "\n",
    "- The recall is low on both the train and the test set, indicating that the tree is not classified well for samples of the positive class (or in this case, the class 'yes').\n",
    "- Reasons are:\n",
    "  + When statistics about the number of samples between the two classes, this dataset contains twice as many samples of class 'no' as there are samples of class 'yes', when tree construction is complete and leaf nodes that are not pure nodes then there will be a majority of leaf nodes with more samples of class 'no' than samples of class 'yes'.\n",
    "  + Branches that produce leaf nodes are either pure leaf nodes for class 'yes' or contain a larger number of samples of class 'yes' generated with a small number of samples from the dataset.\n",
    "  + There are also branches that exist only in one sex or one age, which also affect the classification of the tree if the splitting of the dataset reveals patterns in the test set that are not. belongs to any branch of the tree.\n",
    "- **Propose a solution:** Using algorithms like **random forest** or **gradient boosting**, these techniques will combine many different decision trees and the sample will be finally classified based on **the weighted voting method**. Avoid bias in sample size and increase model stability with outliers."
   ]
  },
  {
   "cell_type": "markdown",
   "metadata": {
    "id": "1gXUwu_vDmep"
   },
   "source": [
    "## Exercise 2: Clustering (4 points + 1 bonus point)\n",
    "\n",
    "### Requirements\n",
    "\n",
    "In this exercise, you will need to implement K-means clustering algorithm on synthetic data."
   ]
  },
  {
   "cell_type": "code",
   "execution_count": 8,
   "metadata": {
    "id": "U9MTEeMP_xbj"
   },
   "outputs": [],
   "source": [
    "import numpy as np\n",
    "from matplotlib import pyplot as plt\n",
    "from scipy.spatial.distance import cdist"
   ]
  },
  {
   "cell_type": "markdown",
   "metadata": {
    "id": "6w5S-iHLJFRx"
   },
   "source": [
    "**Dataset:**\n",
    "\n",
    "- The synthetic dataset contains 1500 data points that belong to 3 clusters. The clusters' centers are respectively $(2,2), (7,3), (3,6)$. \n",
    "\n",
    "- Data points of each cluster are generated randomly from the bivariate normal distribution"
   ]
  },
  {
   "cell_type": "code",
   "execution_count": 9,
   "metadata": {
    "id": "OW6Xu17kMIky"
   },
   "outputs": [],
   "source": [
    "seed = 520 # for reproducibility"
   ]
  },
  {
   "cell_type": "code",
   "execution_count": 10,
   "metadata": {
    "id": "8MEYeXCQH1Dr"
   },
   "outputs": [],
   "source": [
    "### Description: generate synthetic data\n",
    "\n",
    "def generate_data(means, cov, N, K):\n",
    "    np.random.seed(seed) \n",
    "    X0 = np.random.multivariate_normal(means[0], cov, N)\n",
    "    X1 = np.random.multivariate_normal(means[1], cov, N)\n",
    "    X2 = np.random.multivariate_normal(means[2], cov, N)\n",
    "\n",
    "    X = np.concatenate((X0, X1, X2), axis = 0)\n",
    "    original_label = np.asarray([0]*N + [1]*N + [2]*N).T\n",
    "\n",
    "    return X, original_label\n",
    "\n",
    "\n",
    "# visualize data \n",
    "def kmeans_display(X, label):\n",
    "    K = np.amax(label) + 1\n",
    "    X0 = X[label == 0, :]\n",
    "    X1 = X[label == 1, :]\n",
    "    X2 = X[label == 2, :]\n",
    "    \n",
    "    plt.plot(X0[:, 0], X0[:, 1], 'b^', markersize = 4, alpha = .8)\n",
    "    plt.plot(X1[:, 0], X1[:, 1], 'go', markersize = 4, alpha = .8)\n",
    "    plt.plot(X2[:, 0], X2[:, 1], 'rs', markersize = 4, alpha = .8)\n",
    "\n",
    "    plt.axis('equal')\n",
    "    plt.plot()\n",
    "    plt.show()"
   ]
  },
  {
   "cell_type": "code",
   "execution_count": 11,
   "metadata": {
    "colab": {
     "base_uri": "https://localhost:8080/",
     "height": 265
    },
    "id": "V3sqpASYLVd6",
    "outputId": "180ecf12-50ae-42d2-b9c0-0967b24e2222"
   },
   "outputs": [
    {
     "data": {
      "image/png": "[encoded data removed]",
      "text/plain": [
       "<Figure size 432x288 with 1 Axes>"
      ]
     },
     "metadata": {
      "needs_background": "light"
     },
     "output_type": "display_data"
    }
   ],
   "source": [
    "N, K = 500, 3\n",
    "means = [[2, 2], [7, 3], [3, 6]]\n",
    "cov = [[1, 0], [0, 1]]\n",
    "\n",
    "X, original_label = generate_data(means, cov, N, K)\n",
    "kmeans_display(X, original_label)"
   ]
  },
  {
   "cell_type": "markdown",
   "metadata": {
    "id": "6wDWbfKgLhcp"
   },
   "source": [
    "You will need to fill in the ```YOUR CODE HERE``` to finish K-means clustering algorithm"
   ]
  },
  {
   "cell_type": "markdown",
   "metadata": {
    "id": "TGyHXCaeLy64"
   },
   "source": [
    "### Implementation (4 points)"
   ]
  },
  {
   "cell_type": "code",
   "execution_count": 12,
   "metadata": {
    "id": "-pOgiA5_ME9w"
   },
   "outputs": [],
   "source": [
    "# 0.5\n",
    "def kmeans_init_centers(X, k):\n",
    "    np.random.seed(seed)\n",
    "    # randomly pick k rows of X as initial centers using np.random.choice function\n",
    "    # YOUR CODE HERE\n",
    "    return X[np.random.choice(X.shape[0], k, replace=False)]\n",
    "    #raise NotImplementedError()"
   ]
  },
  {
   "cell_type": "code",
   "execution_count": 13,
   "metadata": {
    "id": "LEtg0cx6MVJY"
   },
   "outputs": [],
   "source": [
    "centers = kmeans_init_centers(X, K)\n",
    "assert centers.shape == (K, 2)"
   ]
  },
  {
   "cell_type": "code",
   "execution_count": 14,
   "metadata": {
    "id": "_uE76wVmMVk5"
   },
   "outputs": [],
   "source": [
    "# 1\n",
    "def kmeans_assign_labels(X, centers):\n",
    "    # calculate pairwise distances between data and centers using cdist\n",
    "    # return index of the closest center using np.argmin  \n",
    "    # YOUR CODE HERE\n",
    "    distances = cdist(X, centers)\n",
    "    return np.argmin(distances, axis = 1)\n",
    "    #raise NotImplementedError()"
   ]
  },
  {
   "cell_type": "code",
   "execution_count": 15,
   "metadata": {
    "id": "dejjjGM8MZMJ"
   },
   "outputs": [],
   "source": [
    "assigned_labels = kmeans_assign_labels(X, centers)\n",
    "assert assigned_labels.shape == (N*3, )"
   ]
  },
  {
   "cell_type": "code",
   "execution_count": 16,
   "metadata": {
    "id": "NI48jo7IMa20"
   },
   "outputs": [],
   "source": [
    "# 1\n",
    "def kmeans_update_centers(X, labels, K):\n",
    "    centers = np.zeros((K, X.shape[1]))\n",
    "    for k in range(K):\n",
    "        # collect all points assigned to the k-th cluster \n",
    "        # take average\n",
    "        # YOUR CODE HERE\n",
    "        Xk = X[labels == k, :]\n",
    "        centers[k,:] = np.mean(Xk, axis = 0)\n",
    "        #raise NotImplementedError()       \n",
    "    return centers"
   ]
  },
  {
   "cell_type": "code",
   "execution_count": 17,
   "metadata": {
    "id": "sB4HwTURMdic"
   },
   "outputs": [],
   "source": [
    "# 0.5\n",
    "def has_converged(centers, new_centers):\n",
    "    # return True if two sets of centers are the same\n",
    "    # YOUR CODE HERE\n",
    "    return (set([tuple(a) for a in centers]) == set([tuple(a) for a in new_centers]))\n",
    "    #raise NotImplementedError()"
   ]
  },
  {
   "cell_type": "code",
   "execution_count": 18,
   "metadata": {
    "id": "5bcLqYi_MfxM"
   },
   "outputs": [],
   "source": [
    "# 1\n",
    "def kmeans(X, K):\n",
    "    # save the center coordinates of each iteration\n",
    "    centers = [kmeans_init_centers(X, K)]  \n",
    "    # save the labels of each iteration\n",
    "    labels = []\n",
    "    it = 0 \n",
    "    while True:\n",
    "        # at each iteration:\n",
    "        # 1. assign label for each points and append to labels\n",
    "        # 2. update the centers\n",
    "        # 3. check the convergence condition\n",
    "        #    and append NEW center coordinates to centers\n",
    "        # 4. update iteration \n",
    "\n",
    "        # YOUR CODE HERE\n",
    "        labels.append(kmeans_assign_labels(X, centers[-1]))\n",
    "        newcent = kmeans_update_centers(X, labels[-1], K)\n",
    "        if has_converged(centers[-1], newcent):\n",
    "            break\n",
    "        centers.append(newcent)\n",
    "        it = it + 1\n",
    "        #raise NotImplementedError()  \n",
    "    return (centers, labels, it)"
   ]
  },
  {
   "cell_type": "code",
   "execution_count": 19,
   "metadata": {
    "id": "mAPz0ii1Mh94"
   },
   "outputs": [
    {
     "name": "stdout",
     "output_type": "stream",
     "text": [
      "Centers found by k-means algorithm:\n",
      "[[2.96402177 6.01105837]\n",
      " [7.03594941 3.05108601]\n",
      " [1.92067563 2.03188976]]\n",
      "============================================================\n"
     ]
    },
    {
     "data": {
      "image/png": "[encoded data removed]",
      "text/plain": [
       "<Figure size 432x288 with 1 Axes>"
      ]
     },
     "metadata": {
      "needs_background": "light"
     },
     "output_type": "display_data"
    }
   ],
   "source": [
    "(centers, labels, it) = kmeans(X, K)\n",
    "print('Centers found by k-means algorithm:')\n",
    "print(centers[-1])\n",
    "print('='*60)\n",
    "\n",
    "kmeans_display(X, labels[-1])"
   ]
  },
  {
   "cell_type": "markdown",
   "metadata": {
    "id": "o1_S2KR3L72g"
   },
   "source": [
    "### Answer the following questions (bonus 1 point)\n",
    "\n",
    "**Question 2:** Your comments on the result of K-means algorithm on the synthetic dataset? (0.25)\n",
    "\n",
    "---\n",
    "\n",
    "We can see that the K-means clustering algorithm works quite well, with the centers found to be quite close to the initial expectation. The points belonging to the same cluster are almost assigned to the same cluster (except for a few red points initially wrongly assigned to the blue cluster, but the proportion is small and acceptable)."
   ]
  },
  {
   "cell_type": "markdown",
   "metadata": {
    "id": "T7lsqqBKMBRE"
   },
   "source": [
    "**Question 3:** \n",
    "\n",
    "- **Drawbacks of K-means clustering algorithm (0.5)**\n",
    "\n",
    "- **Propose solutions to the drawbacks you stated above (0.25)**\n",
    "\n",
    "---\n",
    "\n",
    "👉 Drawbacks of K-means clustering algorithm and solutions:\n",
    "- Difficulty in predicting K (the number of clusters): It can be difficult to choose the optimal number of clusters (K) for a given dataset. Picking too many or too few clusters can lead to poor results. **SOLUTION: There are some methods that help determine the number of clusters such as Elbow method, Silhouette method, Cross-validation,...**\n",
    "- Sensitive to scale: Since k-means clustering works by calculating the distance between data points and the size of centers of your clusters, it can be thrown off by situations where your variables have different scales. **SOLUTION: If one of your variables is on a much larger scale than the others, for example, that variable will have an outsized effect on the distance calculated. This means that you generally need to re-scale your data before using k-means clustering.**\n",
    "- Struggles with high dimensional data: Like many other clustering algorithms, k-means clustering starts to struggle when many features are included in the model.**SOLUTION: If you have many potential features, you should cosider applying feature selection or dimensionality reduction algorithms to your data before creating your clusters.**\n",
    "- Clustering outliers: Centroids can be dragged by outliers, or outliers might get their own cluster instead of being ignored. **SOLUTION: Consider removing or clipping outliers before clustering.**\n",
    "- Sensitivity to initial value: K-means clustering is sensitive to the initial choice of cluster centers, which can lead to different solutions with different final cluster assignments. **SOLUTION: Running K-means clustering multiple times with different initial centers and select the method with the smallest final loss function value.**\n",
    "- Assumes spherical density. One of the main disadvantages of k-means clustering is that it constrains all clusters to have a spherical shape. This means that k-means clustering does not perform as well in situations where clusters naturally have irregular shapes. This is a relatively strict assumption that is not made by all clustering algorithms.\n"
   ]
  }
 ],
 "metadata": {
  "colab": {
   "provenance": []
  },
  "kernelspec": {
   "display_name": "Python 3 (ipykernel)",
   "language": "python",
   "name": "python3"
  },
  "language_info": {
   "codemirror_mode": {
    "name": "ipython",
    "version": 3
   },
   "file_extension": ".py",
   "mimetype": "text/x-python",
   "name": "python",
   "nbconvert_exporter": "python",
   "pygments_lexer": "ipython3",
   "version": "3.9.5"
  }
 },
 "nbformat": 4,
 "nbformat_minor": 4
}
